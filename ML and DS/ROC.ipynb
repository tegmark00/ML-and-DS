{
  "nbformat": 4,
  "nbformat_minor": 0,
  "metadata": {
    "colab": {
      "name": "ROC.ipynb",
      "provenance": [],
      "collapsed_sections": []
    },
    "kernelspec": {
      "name": "python3",
      "display_name": "Python 3"
    }
  },
  "cells": [
    {
      "cell_type": "markdown",
      "metadata": {
        "id": "C-EvkNurwfdp",
        "colab_type": "text"
      },
      "source": [
        "# Receiver Operating Characteristic (ROC) Curve.<br>Крива Робочої Характеристики Приймача"
      ]
    },
    {
      "cell_type": "markdown",
      "metadata": {
        "id": "2JcZniSayxbk",
        "colab_type": "text"
      },
      "source": [
        "ROC-крива &mdash; один із методів оцінки якості натренованих __бінарних класифікаторів__, тобто тих, що працють з двома мітками: \"1\" (істина) та \"0\" (хиба). Крива зображується в двовимірному просторі:\n",
        "* По осі $OX$ &mdash; __False Positive Rate (FPR)__ &mdash; частка семплів із міткою \"0\", що були _некоректно_ класифіковані як істинні;\n",
        "* По осі $OY$ &mdash; __True Positive Rate (TPR)__ &mdash; частка семплів із міткою \"1\", що були _коректно_ класифіковані як істинні.\n",
        "\n",
        "Більш формально, \n",
        "$$ \\text{ False Positive Rate } = \\frac{ FP }{ N } = \\frac{ FP }{ FP + TN }, $$\n",
        "$$ \\text{ True Positive Rate }  = \\frac{ TP }{ P } = \\frac{ TP }{ TP + FN }, $$\n",
        "де\n",
        "* $P$ (Positive) &mdash; сукупна кількість семплів із міткою \"1\";\n",
        "* $N$ (Negative) &mdash; сукупна кількість семплів із міткою \"0\";\n",
        "* $TP$ (True Positive) &mdash; кількість семплів із міткою \"1\", що були коректно класифіковані як \"1\";\n",
        "* $TN$ (True Negative) &mdash; кількість семплів із міткою \"0\", що були класифіковані як \"0\";\n",
        "* $FP$ (False Positive __помилка першого роду__) &mdash; кількість семплів із міткою \"0\", що були некоректно класифіковані як \"1\";\n",
        "* $FN$ (False Negative, __помилка другого роду__) &mdash; кількість семплів із міткою \"1\", що були некоректно класифіковані як \"0\"."
      ]
    },
    {
      "cell_type": "markdown",
      "metadata": {
        "id": "p4QXseWA2Cav",
        "colab_type": "text"
      },
      "source": [
        "Побудова ROC-кривої доцільна для класифікаторів, що можна описати наступним правилом:\n",
        "\n",
        "$$\\hat{y}_i = \\mathbb{I} \\left[ p(\\mathbf{x}_i) \\geq t \\right],$$\n",
        "\n",
        "тобто, класифікатор видає ймовірність належності семплу $\\mathbf{x}_i$ класу \"1\", і якщо ця ймовірність вища за заданий поріг $t$, то об'єкту призначається мітка \"1\", інакше &mdash; \"0\". \n",
        "\n",
        "У `scikit-learn` такі класифікатори мають метод `predict_proba(X)`. \n",
        "\n",
        "Крива будується наступним чином: для кожного значення порогу $t\\in [0; 1]$ рахуються $FPR$ та $TPR$ на тестовому наборі даних та відкладаються за відповіднми осями. Помітимо, що при $t=1$ усі об'єкти будуть класифіковані як хибні, тому $FP = TP = 0$ і обидва показники дорівнюватимуть 0; а при $t=0$ усі семпли будуть класифіковані як істинні, тож $TN = FN = 0$ і обидва показники дорівнюватимуть 1. Тобто, крива ROC завжди проходить через точки $(0; 0)$ та $(1; 1)$.\n",
        "\n",
        "__Як за домопогою кривої візуально оцінити якість класифікатора?__\n",
        "\n",
        "<hr color=\"red\">\n",
        "\n",
        "* В найкращому випадку, коли класифікатор коректно визначає мітки всех об'єктів, на графіку буде точка $(0, 1$), і ROC-крива матиме вигляд $y = 1$;\n",
        "\n",
        "* Якщо ROC-крива близька до 1, тобто $y \\approx 1$ (додатна кривизна, крива опукла вгору), то наш класифікатор має високу точність;\n",
        "\n",
        "* Якщо крива близько $y \\approx x$, тобто крива має ступінчастий вигляд біля бісектриси, то якість класифікатора не більше, ніж сліпе вгадування чи підкидання монетки;\n",
        "\n",
        "* В найгіршому випадку отримаємо $y \\approx 0$ (від'ємна кривизна, крива випукла вниз). Це означає, що ми класифікували об'єкти з точністю до навпаки.\n",
        "<hr color=\"red\">\n",
        "\n",
        "Спершу побудуємо криву вбудованими засобами бібліотеки для деякого набору даних, а потім детальніше розглянемо механіку побудови для маленького штучного датасету.\n"
      ]
    },
    {
      "cell_type": "markdown",
      "metadata": {
        "id": "4TxoN3EJ6FAq",
        "colab_type": "text"
      },
      "source": [
        "## ROC-крива у `scikit-learn`"
      ]
    },
    {
      "cell_type": "code",
      "metadata": {
        "id": "OX547k2-H7bu",
        "colab_type": "code",
        "colab": {}
      },
      "source": [
        "import numpy as np\n",
        "\n",
        "from sklearn.datasets import make_classification\n",
        "from sklearn.model_selection import train_test_split\n",
        "from sklearn.linear_model import LogisticRegression\n",
        "from sklearn.metrics import confusion_matrix"
      ],
      "execution_count": null,
      "outputs": []
    },
    {
      "cell_type": "code",
      "metadata": {
        "id": "ixM1BWARCzLD",
        "colab_type": "code",
        "colab": {}
      },
      "source": [
        "# Деякий класифікатор для прикладу\n",
        "X, y = make_classification(n_samples=1000)\n",
        "X_train, X_test, y_train, y_test = train_test_split(X, y, test_size=1/3, stratify=y)\n",
        "clf = LogisticRegression(solver='lbfgs').fit(X_train, y_train)\n",
        "y_pred_proba = clf.predict_proba(X_test)[:, 1]"
      ],
      "execution_count": null,
      "outputs": []
    },
    {
      "cell_type": "code",
      "metadata": {
        "id": "IvjvUE-aH49R",
        "colab_type": "code",
        "colab": {}
      },
      "source": [
        "import matplotlib\n",
        "font = {'size': 14}\n",
        "matplotlib.rc('font', **font)\n",
        "\n",
        "import matplotlib.pyplot as plt\n",
        "from sklearn.preprocessing import Binarizer\n",
        "from sklearn.metrics import auc, roc_curve"
      ],
      "execution_count": null,
      "outputs": []
    },
    {
      "cell_type": "code",
      "metadata": {
        "id": "uUR6p12C12ZX",
        "colab_type": "code",
        "colab": {
          "base_uri": "https://localhost:8080/",
          "height": 404
        },
        "outputId": "17c5d7e2-6aea-474e-eecc-0277d2d5bbab"
      },
      "source": [
        "# Функція для побудови ROC кривої вбудованими методами\n",
        "def plot_roc(y_test, y_pred_proba):\n",
        "\n",
        "  fig = plt.figure(figsize=(7, 5))\n",
        "  values = []\n",
        "  ax1 = fig.add_subplot(111)\n",
        "  ax2 = ax1.twiny()\n",
        "\n",
        "  fpr, tpr, ths = roc_curve(y_test, y_pred_proba)\n",
        "  auc_val = auc(fpr, tpr)\n",
        "  ax1.plot(fpr, tpr, color=\"red\", label=\"AUC = {0:.2f}\".format(auc_val))\n",
        "  ax1.set_xlabel(\"False Positive Rate\")\n",
        "  ax1.set_ylabel(\"True Positive Rate\")\n",
        "  plt.title(\"ROC Curve\\n\")\n",
        "  ax1.set_xlim((-0.01, 1.01))\n",
        "  ax1.set_ylim((-0.01, 1.01))\n",
        "  ax1.set_xticks(np.linspace(0, 1, 11))\n",
        "  ax1.plot([0, 1], [0, 1], color=\"blue\", linestyle='--')\n",
        "  ax1.legend(loc=\"lower right\")\n",
        "  plt.show()\n",
        "\n",
        "plot_roc(y_test, y_pred_proba)"
      ],
      "execution_count": null,
      "outputs": [
        {
          "output_type": "display_data",
          "data": {
            "image/png": "[encoded data removed]",
            "text/plain": [
              "<Figure size 504x360 with 2 Axes>"
            ]
          },
          "metadata": {
            "tags": []
          }
        }
      ]
    },
    {
      "cell_type": "markdown",
      "metadata": {
        "id": "N0Tq6hJpMnoo",
        "colab_type": "text"
      },
      "source": [
        "## Побудова ROC-кривої руками"
      ]
    },
    {
      "cell_type": "markdown",
      "metadata": {
        "id": "u7cCrgUuMvPo",
        "colab_type": "text"
      },
      "source": [
        "__Розглянемо приклад__.\n",
        "\n",
        "Нехай у нас є $n = 4$ об'єкта, що належать класу `\"0\"`, та $m = 3$ об'єкта, що належать класу `\"1\"`.\n",
        "\n",
        "Відповіді класифікатора наведено у `таблиці 1`\n",
        "\n"
      ]
    },
    {
      "cell_type": "markdown",
      "metadata": {
        "id": "vTYVt4qSSajd",
        "colab_type": "text"
      },
      "source": [
        "<hr>\n",
        "\n",
        "_Таблиция 1_ -- Результат бінарної класицікації деяким алгоритмом 7-ми об'єктів\n",
        "\n",
        "|  id  | Score | Class |\n",
        "| :--: | :---------: | :---: |\n",
        "| 1 | 0.5 | 0 |\n",
        "| 2 | 0.1 | 0 |\n",
        "| 3 | 0.2 | 0 |\n",
        "| 4 | 0.6 | 1 |\n",
        "| 5 | 0.2 | 1 |\n",
        "| 6 | 0.8 | 1 |\n",
        "| 7 | 0.0 | 0 |"
      ]
    },
    {
      "cell_type": "code",
      "metadata": {
        "id": "rAvhx1tYViKQ",
        "colab_type": "code",
        "colab": {}
      },
      "source": [
        "ex_y_true = [0, 0, 0, 1, 1, 1, 0]\n",
        "ex_y_pred_proba = [0.5, 0.1, 0.2, 0.6, 0.2, 0.8, 0.0]"
      ],
      "execution_count": null,
      "outputs": []
    },
    {
      "cell_type": "markdown",
      "metadata": {
        "id": "Mg_2fG-qUTt2",
        "colab_type": "text"
      },
      "source": [
        "<hr color=\"red\">\n",
        "\n",
        "Нехай алгоритм видав оцінки, як показано у `таблиці 1`. Впорядкуємо рядки `таблиці 1` за спаданням відповідей алгоритму, отримаємо `таблицю 2`. Ясно, що в ідеалі, стовпець \"клас\" також буде впорядкованим (спочатку будуть `\"1\"`, а потім `\"0\"`). В найгіршому випадку -- порядок буде обернений. Для сліпого вгадування буде випадковий розподіл `\"0\"` та `\"1\"`\n",
        "\n",
        "<hr color=\"red\">"
      ]
    },
    {
      "cell_type": "markdown",
      "metadata": {
        "id": "fxtgxHe6Scw_",
        "colab_type": "text"
      },
      "source": [
        "_`Таблиция 2`_ -- Ранжований результат класифікації за ймовірностями\n",
        "\n",
        "|  id  | Score | Class |\n",
        "| :--: | :---------: | :---: |\n",
        "| 6 | 0.8 | 1 |\n",
        "| 4 | 0.6 | 1 |\n",
        "| 1 | 0.5 | 0 |\n",
        "| 3 | 0.3 | 0 |\n",
        "| 5 | 0.2 | 1 |\n",
        "| 2 | 0.1 | 0 |\n",
        "| 7 | 0.0 | 0 |"
      ]
    },
    {
      "cell_type": "code",
      "metadata": {
        "id": "El10zlo3MtlQ",
        "colab_type": "code",
        "colab": {
          "base_uri": "https://localhost:8080/",
          "height": 34
        },
        "outputId": "f32512d4-d0e3-4c8d-bb3f-c7da302ca527"
      },
      "source": [
        "tp = 2\n",
        "tn = 3\n",
        "fp = 1\n",
        "fn = 1\n",
        "tpr = tp/(tp + fn)\n",
        "fpr = fp/(fp + tn)\n",
        "print(f\"TPR = {tpr}, FPR = {fpr}\")"
      ],
      "execution_count": null,
      "outputs": [
        {
          "output_type": "stream",
          "text": [
            "TPR = 0.6666666666666666, FPR = 0.25\n"
          ],
          "name": "stdout"
        }
      ]
    },
    {
      "cell_type": "markdown",
      "metadata": {
        "id": "iNBe152lYj3A",
        "colab_type": "text"
      },
      "source": [
        "<hr>\n",
        "\n",
        "_`Таблиция 3`_ -- Ранжований результат класифікації з мітками\n",
        "\n",
        "|  id  | Score >= 0.5 | Class | ? |\n",
        "| :--: | :---------: | :---: | :-: |\n",
        "| 6 | 1 | 1 | TP |\n",
        "| 4 | 1 | 1 | TP |\n",
        "| 1 | 1 | 0 | FP |\n",
        "| 3 | 0 | 0 | TN |\n",
        "| 5 | 0 | 1 | FN |\n",
        "| 2 | 0 | 0 | TN |\n",
        "| 7 | 0 | 0 | TN |"
      ]
    },
    {
      "cell_type": "markdown",
      "metadata": {
        "id": "8bolkgilcwm1",
        "colab_type": "text"
      },
      "source": [
        "Для того, щоб побудувати ROC криву, необхідно взяти одиничний квадрат на координтаній площині. Розбити його на $m$ горизонтальних частин та на $n$ -- вертикальних. В результаті, отримаємо сітку $n \\times m$. В нашому прикладі: $n = 4$, $m = 3$"
      ]
    },
    {
      "cell_type": "markdown",
      "metadata": {
        "id": "gqnTVM3XFkNl",
        "colab_type": "text"
      },
      "source": [
        "### Принцип побудову  кривої"
      ]
    },
    {
      "cell_type": "markdown",
      "metadata": {
        "id": "XRU6JqCoc2Xl",
        "colab_type": "text"
      },
      "source": [
        "Тепер будемо розглядати рядки `таблиці 2` або `3` зверху вниз та будувати на сітці лінії, переходячи від одного вузла в інший. Починаємо з точки $(0, 0)$. Якщо значення мітки класа в розглядаємому рядку -- 1, то _робимо крок верх_; якщо 0, то _робимо крок праворуч_. Очевидно, що в результаті ми потрапимо в чтоку $(1, 1)$, оскільки виконаємо в сумі $m$ кроків уверх та $n$ праворуч."
      ]
    },
    {
      "cell_type": "code",
      "metadata": {
        "id": "LoIeuZ--HpIo",
        "colab_type": "code",
        "colab": {}
      },
      "source": [
        "points_00 = [\n",
        "  [0, 0],\n",
        "  [0, 1/3],\n",
        "  [0, 2/3],\n",
        "  [1/4, 2/3],\n",
        "  [2/4, 2/3],\n",
        "  [2/4, 1.0],\n",
        "  [3/4, 1.0],\n",
        "  [1.0, 1.0]\n",
        "]"
      ],
      "execution_count": null,
      "outputs": []
    },
    {
      "cell_type": "code",
      "metadata": {
        "id": "GzAPeH3UcozZ",
        "colab_type": "code",
        "colab": {}
      },
      "source": [
        "# Функція для побудови заданої ламаної за заданими точками та кількостями класів\n",
        "# n -- кількість об'єктів у класі \"0\"\n",
        "# m -- кількість об'єктів у класі \"1\"\n",
        "def plot_list_points_roc(points, n, m):\n",
        "  \n",
        "  # Транспонуємо список списків, щоб розділити точки по Оx та Оy\n",
        "  points = list(map(list, zip(*points)))\n",
        "  x = points[0]\n",
        "  y = points[1]\n",
        "\n",
        "  fig = plt.figure()\n",
        "  ax = fig.add_subplot(1, 1, 1)\n",
        "\n",
        "  # Пунктирна лінія y = x\n",
        "  plt.plot([0, 1], [0, 1], linestyle='--', color='blue')\n",
        "  # ROC крива побудована на заданих точках, з'єднаних лінією\n",
        "  plt.plot(x, y, linestyle='-', marker='o', color='red')\n",
        "  # Назви осей\n",
        "  plt.xlabel('FPR')\n",
        "  plt.ylabel('TPR')\n",
        "\n",
        "  # Додаємо сітку\n",
        "  grid_x_ticks = np.arange(-0.0001, 1.0001, 1/n)\n",
        "  grid_y_ticks = np.arange(-0.0001, 1.0001, 1/m)\n",
        "  ax.set_xticks(grid_x_ticks , minor=True)\n",
        "  ax.set_yticks(grid_y_ticks , minor=True)\n",
        "  ax.grid(which='minor')\n",
        "\n",
        "  plt.show()"
      ],
      "execution_count": null,
      "outputs": []
    },
    {
      "cell_type": "code",
      "metadata": {
        "id": "8BoxNY6hHrRh",
        "colab_type": "code",
        "colab": {
          "base_uri": "https://localhost:8080/",
          "height": 287
        },
        "outputId": "341f5b59-e9fc-4a20-dd6e-4055575ded1b"
      },
      "source": [
        "plot_list_points_roc(points_00, 4, 3)"
      ],
      "execution_count": null,
      "outputs": [
        {
          "output_type": "display_data",
          "data": {
            "image/png": "[encoded data removed]",
            "text/plain": [
              "<Figure size 432x288 with 1 Axes>"
            ]
          },
          "metadata": {
            "tags": []
          }
        }
      ]
    },
    {
      "cell_type": "code",
      "metadata": {
        "id": "9_2jghutoYtx",
        "colab_type": "code",
        "colab": {
          "base_uri": "https://localhost:8080/",
          "height": 404
        },
        "outputId": "4f8f5cee-2cad-4356-f739-82f1787fd207"
      },
      "source": [
        "plot_roc(ex_y_true, ex_y_pred_proba)"
      ],
      "execution_count": null,
      "outputs": [
        {
          "output_type": "display_data",
          "data": {
            "image/png": "[encoded data removed]",
            "text/plain": [
              "<Figure size 504x360 with 2 Axes>"
            ]
          },
          "metadata": {
            "tags": []
          }
        }
      ]
    },
    {
      "cell_type": "markdown",
      "metadata": {
        "id": "kM2ksdNGpO4L",
        "colab_type": "text"
      },
      "source": [
        "### Примітка\n",
        "\n",
        "Якщо ви зробили одразу крок праворуч та вверх, то малюємо діагональ клітинки"
      ]
    },
    {
      "cell_type": "code",
      "metadata": {
        "id": "6wmJO8OspeyC",
        "colab_type": "code",
        "colab": {
          "base_uri": "https://localhost:8080/",
          "height": 287
        },
        "outputId": "154f0ef3-56cd-4bc6-cf4e-c65eb6bfa065"
      },
      "source": [
        "points_01 = [\n",
        "  [0, 0],\n",
        "  [0, 1/3],\n",
        "  [0, 2/3],\n",
        "  [1/4, 2/3],\n",
        "  [2/4, 1.0],\n",
        "  [3/4, 1.0],\n",
        "  [1.0, 1.0]\n",
        "]\n",
        "\n",
        "plot_list_points_roc(points_01, 4, 3)"
      ],
      "execution_count": null,
      "outputs": [
        {
          "output_type": "display_data",
          "data": {
            "image/png": "[encoded data removed]",
            "text/plain": [
              "<Figure size 432x288 with 1 Axes>"
            ]
          },
          "metadata": {
            "tags": []
          }
        }
      ]
    },
    {
      "cell_type": "code",
      "metadata": {
        "id": "bYHKH95jxMoi",
        "colab_type": "code",
        "colab": {
          "base_uri": "https://localhost:8080/",
          "height": 34
        },
        "outputId": "9844b52b-989e-40ee-e14b-b2c251c6a8e3"
      },
      "source": [
        "# Площа під кривою:\n",
        "# Кількість клітинок під кривою / Кількість усіх клітинок\n",
        "area_under_curve = 10.5/12\n",
        "area_under_curve"
      ],
      "execution_count": null,
      "outputs": [
        {
          "output_type": "execute_result",
          "data": {
            "text/plain": [
              "0.875"
            ]
          },
          "metadata": {
            "tags": []
          },
          "execution_count": 12
        }
      ]
    },
    {
      "cell_type": "markdown",
      "metadata": {
        "id": "ynI_mNc24dN0",
        "colab_type": "text"
      },
      "source": [
        "# Показник AUC ROC"
      ]
    },
    {
      "cell_type": "markdown",
      "metadata": {
        "id": "uCo77D-l-QrR",
        "colab_type": "text"
      },
      "source": [
        "__AUC ROC__ -- показник, який відображає якість класифікатора, приймає значення в діапазоні від `0` до `1`. На практиці показує площу під кривою помилок (ROC curve). Якщо крива помилок відповідатиме лінії $y = 1$, то це означає, що ми правильно класифікували кожний об'єкт, тобто, в нас немає помилок.\n",
        "\n",
        "Чим ближчий показник до одиниці, тим кращій класифікатор"
      ]
    },
    {
      "cell_type": "code",
      "metadata": {
        "colab_type": "code",
        "id": "zJHXaWpJDFN1",
        "colab": {
          "base_uri": "https://localhost:8080/",
          "height": 34
        },
        "outputId": "61ca1343-c33c-455a-ab96-3d7bbc5bcd7c"
      },
      "source": [
        "fpr, tpr, ths = roc_curve(y_test, y_pred_proba)\n",
        "auc_val = auc(fpr, tpr)\n",
        "print(\"AUC ROC =\", auc_val)"
      ],
      "execution_count": null,
      "outputs": [
        {
          "output_type": "stream",
          "text": [
            "AUC ROC = 0.9462512101545412\n"
          ],
          "name": "stdout"
        }
      ]
    },
    {
      "cell_type": "markdown",
      "metadata": {
        "id": "d35dWGCceym9",
        "colab_type": "text"
      },
      "source": [
        "## Розрахунок показника AUC ROC"
      ]
    },
    {
      "cell_type": "markdown",
      "metadata": {
        "id": "uvrHtdfoTuol",
        "colab_type": "text"
      },
      "source": [
        "__AUC ROC__ дорівнює долі пар об'єктів виду (об'єкт класу `\"1\"`, об'єкт класу `\"0\"`), які алгоритм вірно впорядкував. Тобто перший об'єкт йде в упорядкованому списку раніше. Чисельно це можна записати так\n",
        "\n",
        "<br>\n",
        "\n",
        "$$ \\frac{\\sum_{i=1}^{N} \\sum_{j=1}^{N} I(y_i < y_j) \\cdot I'(a_i < a_j)}{\\sum_{i=1}^{N} \\sum_{j=1}^{N} I(y_i < y_j)}$$\n",
        "\n",
        "<br>\n",
        "\n",
        "- $N$ -- кількість об'єктів у тестовій виборці\n",
        "- $y_i$ -- мітка, клас $i$-того об'єкта $\\in \\{0, 1\\}$\n",
        "- $a_i$ -- відповідь алгоритма на $i$-тому об'єкті, _ймовірність_, що $i$-тий об'єкт належить до класу `\"1\"`\n",
        "\n",
        "<br>\n",
        "\n",
        "\\begin{equation*}\n",
        "I(y_i < y_j) = \n",
        " \\begin{cases}\n",
        "   0, &\\text{$y_i \\geq y_j$,}\\\\\n",
        "   1, &\\text{$y_i < y_j$.}\n",
        " \\end{cases}\n",
        "\\end{equation*}\n",
        "\n",
        "<br>\n",
        "\n",
        "\\begin{equation*}\n",
        "I'(a_i < a_j) = \n",
        " \\begin{cases}\n",
        "   0, &\\text{$a_i > a_j$,}\\\\\n",
        "   0.5, &\\text{$a_i = a_j$,}\\\\\n",
        "   1, &\\text{$a_i < a_j$.}\n",
        " \\end{cases}\n",
        "\\end{equation*}"
      ]
    },
    {
      "cell_type": "code",
      "metadata": {
        "id": "32s3vubXMW5b",
        "colab_type": "code",
        "colab": {}
      },
      "source": [
        "# Ручний підрахунок AUC ROC\n",
        "def roc_auc_score(y_true, y_pred_proba):\n",
        "\n",
        "  # Оператор I\n",
        "  def I(yi, yj):\n",
        "    return 0 if yi >= yj else 1\n",
        "\n",
        "  # Оператор I'\n",
        "  def II(ai, aj):\n",
        "    return 0 if ai > aj else 0.5 if ai == aj else 1\n",
        "\n",
        "  n = len(y_true)\n",
        "  \n",
        "  nominator = 0\n",
        "  denominator = 0\n",
        "  \n",
        "  # Подвійна сума\n",
        "  for i in range(n):\n",
        "    for j in range(n):\n",
        "      real = I(y_true[i], y_true[j])\n",
        "      algorithm = II(y_pred_proba[i], y_pred_proba[j])\n",
        "      # Розрахунок подвійної суми в чисельнику за формлою (*)\n",
        "      nominator += real*algorithm\n",
        "      # Розрахунок подвійної суми в знаменнику за формлою (*)\n",
        "      denominator += real\n",
        "\n",
        "  return nominator/denominator"
      ],
      "execution_count": null,
      "outputs": []
    },
    {
      "cell_type": "markdown",
      "metadata": {
        "id": "FgcKygwEqyfy",
        "colab_type": "text"
      },
      "source": [
        "### Розрахунок показника AUC ROC для прикладу з класифікатором"
      ]
    },
    {
      "cell_type": "code",
      "metadata": {
        "id": "--fdTZjoNCy_",
        "colab_type": "code",
        "colab": {
          "base_uri": "https://localhost:8080/",
          "height": 34
        },
        "outputId": "3b3f4c0e-563e-4659-8a8d-1b24473fd276"
      },
      "source": [
        "score = roc_auc_score(y_test, y_pred_proba)\n",
        "print(f\"AUC ROC = {score}\")"
      ],
      "execution_count": null,
      "outputs": [
        {
          "output_type": "stream",
          "text": [
            "AUC ROC = 0.9462512101545412\n"
          ],
          "name": "stdout"
        }
      ]
    },
    {
      "cell_type": "markdown",
      "metadata": {
        "id": "xUvuYMBXqdPH",
        "colab_type": "text"
      },
      "source": [
        "### Розрахунок показника AUC ROC для прикладу з 7 об'єктами"
      ]
    },
    {
      "cell_type": "code",
      "metadata": {
        "id": "Ls7yZLceIJrj",
        "colab_type": "code",
        "colab": {
          "base_uri": "https://localhost:8080/",
          "height": 34
        },
        "outputId": "30615645-7a05-473d-8af4-52120f316f29"
      },
      "source": [
        "score = roc_auc_score(ex_y_true, ex_y_pred_proba)\n",
        "print(f\"AUC ROC = {score}\")"
      ],
      "execution_count": null,
      "outputs": [
        {
          "output_type": "stream",
          "text": [
            "AUC ROC = 0.875\n"
          ],
          "name": "stdout"
        }
      ]
    }
  ]
}